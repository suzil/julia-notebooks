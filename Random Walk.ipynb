{
 "cells": [
  {
   "cell_type": "code",
   "execution_count": 9,
   "metadata": {},
   "outputs": [],
   "source": [
    "using Luxor"
   ]
  },
  {
   "cell_type": "markdown",
   "metadata": {},
   "source": [
    "## Random walk with up-down-left-right with equal probability"
   ]
  },
  {
   "cell_type": "code",
   "execution_count": 10,
   "metadata": {},
   "outputs": [],
   "source": [
    "Drawing(600, 400, \"images/random_walk_4equal.png\")\n",
    "origin()\n",
    "background(\"midnightblue\")\n",
    "\n",
    "let 🐢=Turtle()\n",
    "    Pencolor(🐢, \"cyan\")\n",
    "    Penwidth(🐢, 1.5)\n",
    "\n",
    "    for i in 1:1e5\n",
    "        choice = rand(1:4)\n",
    "        if choice == 1\n",
    "            # Go left\n",
    "            Orientation(🐢, 180)\n",
    "            Forward(🐢, 1)\n",
    "        elseif choice == 2\n",
    "            # Go right\n",
    "            Orientation(🐢, 0)\n",
    "            Forward(🐢, 1)\n",
    "        elseif choice == 3\n",
    "            # Go up\n",
    "            Orientation(🐢, 270)\n",
    "            Forward(🐢, 1)\n",
    "        elseif choice == 4\n",
    "            # Go down\n",
    "            Orientation(🐢, 90)\n",
    "            Forward(🐢, 1)\n",
    "        end\n",
    "    end\n",
    "    finish()\n",
    "end;"
   ]
  },
  {
   "cell_type": "markdown",
   "metadata": {},
   "source": [
    "![](images/random_walk_4equal.png)"
   ]
  },
  {
   "cell_type": "markdown",
   "metadata": {},
   "source": [
    "## Random walk with up-down-left-right with bias down and right"
   ]
  },
  {
   "cell_type": "code",
   "execution_count": 11,
   "metadata": {},
   "outputs": [],
   "source": [
    "Drawing(600, 400, \"images/random_walk_bias.png\")\n",
    "origin()\n",
    "background(\"midnightblue\")\n",
    "\n",
    "let 🐢=Turtle()\n",
    "    Pencolor(🐢, \"cyan\")\n",
    "    Penwidth(🐢, 1.5)\n",
    "    \n",
    "    for i in 1:1e5\n",
    "        choice = rand(1:100)\n",
    "        if choice <= 24\n",
    "            # Go left, 24% chance\n",
    "            Orientation(🐢, 180)\n",
    "            Forward(🐢, 1)\n",
    "        elseif choice <= 48\n",
    "            # Go up, 24% chance\n",
    "            Orientation(🐢, 270)\n",
    "            Forward(🐢, 1)\n",
    "        elseif choice <= 74\n",
    "            # Go right, 26% chance\n",
    "            Orientation(🐢, 0)\n",
    "            Forward(🐢, 1)\n",
    "        else\n",
    "            # Go down, 26% chance\n",
    "            Orientation(🐢, 90)\n",
    "            Forward(🐢, 1)\n",
    "        end\n",
    "    end\n",
    "    finish()\n",
    "end;"
   ]
  },
  {
   "cell_type": "markdown",
   "metadata": {},
   "source": [
    "![](images/random_walk_bias.png)"
   ]
  },
  {
   "cell_type": "markdown",
   "metadata": {},
   "source": [
    "## Random walk with all degrees of freedom"
   ]
  },
  {
   "cell_type": "code",
   "execution_count": 12,
   "metadata": {},
   "outputs": [],
   "source": [
    "Drawing(600, 400, \"images/random_walk_freedom.png\")\n",
    "origin()\n",
    "background(\"midnightblue\")\n",
    "\n",
    "let 🐢=Turtle()\n",
    "    Pencolor(🐢, \"cyan\")\n",
    "    Penwidth(🐢, 1.5)\n",
    "\n",
    "    for i in 1:1e5\n",
    "        degrees = rand(1:360)\n",
    "        Orientation(🐢, degrees)\n",
    "        Forward(🐢, 1)\n",
    "    end\n",
    "    finish()\n",
    "end;"
   ]
  },
  {
   "cell_type": "markdown",
   "metadata": {},
   "source": [
    "![](images/random_walk_freedom.png)"
   ]
  },
  {
   "cell_type": "code",
   "execution_count": null,
   "metadata": {},
   "outputs": [],
   "source": []
  }
 ],
 "metadata": {
  "kernelspec": {
   "display_name": "Julia 1.1.0",
   "language": "julia",
   "name": "julia-1.1"
  },
  "language_info": {
   "file_extension": ".jl",
   "mimetype": "application/julia",
   "name": "julia",
   "version": "1.1.0"
  }
 },
 "nbformat": 4,
 "nbformat_minor": 2
}
