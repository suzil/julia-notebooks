{
 "cells": [
  {
   "cell_type": "code",
   "execution_count": 1,
   "metadata": {},
   "outputs": [],
   "source": [
    "using Luxor"
   ]
  },
  {
   "cell_type": "code",
   "execution_count": 2,
   "metadata": {},
   "outputs": [],
   "source": [
    "Drawing(600, 400, \"images/random_walk.png\")\n",
    "origin()\n",
    "background(\"midnightblue\")\n",
    "\n",
    "let 🐢=Turtle()\n",
    "    Pencolor(🐢, \"cyan\")\n",
    "    Penwidth(🐢, 1.5)\n",
    "    \n",
    "    n = 5\n",
    "    for i in 1:1e5\n",
    "        choice = rand(1:4)\n",
    "        if choice == 1\n",
    "            # Go left\n",
    "            Orientation(🐢, 180)\n",
    "            Forward(🐢, 1)\n",
    "        elseif choice == 2\n",
    "            # Go right\n",
    "            Orientation(🐢, 0)\n",
    "            Forward(🐢, 1)\n",
    "        elseif choice == 3\n",
    "            # Go up\n",
    "            Orientation(🐢, 90)\n",
    "            Forward(🐢, 1)\n",
    "        elseif choice == 4\n",
    "            # Go down\n",
    "            Orientation(🐢, 270)\n",
    "            Forward(🐢, 1)\n",
    "        end\n",
    "    end\n",
    "    finish()\n",
    "end;"
   ]
  },
  {
   "cell_type": "markdown",
   "metadata": {},
   "source": [
    "![](images/random_walk.png)"
   ]
  },
  {
   "cell_type": "code",
   "execution_count": null,
   "metadata": {},
   "outputs": [],
   "source": []
  }
 ],
 "metadata": {
  "kernelspec": {
   "display_name": "Julia 1.1.0",
   "language": "julia",
   "name": "julia-1.1"
  },
  "language_info": {
   "file_extension": ".jl",
   "mimetype": "application/julia",
   "name": "julia",
   "version": "1.1.0"
  }
 },
 "nbformat": 4,
 "nbformat_minor": 2
}
